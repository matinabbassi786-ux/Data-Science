import pandas as pd
import numpy as np
import matplotlib.pyplot as plt



Asustek_Computer_Inc_Data = pd.read_csv("2357 Historical Data.csv")
BSE_Sensex_30_Data = pd.read_csv("BSE Sensex 30 Historical Data.csv")
GOOGL_Data = pd.read_csv("GOOGL Historical Data.csv")
JINT_Data = pd.read_csv("JINT Historical Data.csv")
JSTL_Data = pd.read_csv("JSTL Historical Data.csv")
KAMI_Data = pd.read_csv("KAMI Historical Data.csv")
Nifty_Bank_Data = pd.read_csv("Nifty Bank Historical Data.csv")
Tata_Steel_Ltd_Data = pd.read_csv("Tata Steel Ltd (TISC) Historical Data.csv")
VISA_Data = pd.read_csv("VISA Historical Data.csv")


Asustek_Computer_Inc_Data["Company Name"] = "asustek computer inc"
BSE_Sensex_30_Data["Company Name"] = "BSE SENSEX"
GOOGL_Data["Company Name"] = "Alphabet Inc Class C"
JINT_Data["Company Name"] = "Jindal Steel Ltd (JINT)"
JSTL_Data["Company Name"]="JSTL Steel"
KAMI_Data["Company Name"]= "Kamdhenu Ltd (KAMI)"
Nifty_Bank_Data["Company Name"] = "Nifty Bank"
Tata_Steel_Ltd_Data["Company Name"] = "Tata Steel Ltd "
VISA_Data["Company Name"] = "Visa Steel Ltd (VISA)"



df = pd.concat([
    Asustek_Computer_Inc_Data,
    BSE_Sensex_30_Data,
    GOOGL_Data,
    JINT_Data,
    KAMI_Data,
    Nifty_Bank_Data,
    Tata_Steel_Ltd_Data,
    VISA_Data
]).reset_index(drop=True).copy()


def convert_short_number(s):
    """Converts a string with K, M, or B suffixes to a number."""
    if not isinstance(s, str):
        return s
    
    num_map = {'K': 1000, 'M': 1000000, 'B': 1000000000}
    
    if s[-1].upper() in num_map:
        # Get the numeric part of the string
        num = float(s[:-1])
        # Multiply by the value of the suffix
        return int(num * num_map[s[-1].upper()])
    else:
        # If no suffix, convert directly
        return int(float(s))


df["Date"] = pd.to_datetime(df["Date"],format='%d-%m-%Y')
Company_Name = df["Company Name"].unique().copy()

df["Price"] = df["Price"].astype(str)
df["Price"] = df["Price"].str.replace(",","")
df["Price"] = df["Price"].astype(float)

df["Open"] = df["Open"].astype(str)
df["Open"] = df["Open"].str.replace(",","")
df["Open"] = df["Open"].astype(float)

df["High"] = df["High"].astype(str)
df["High"] = df["High"].str.replace(",","")
df["High"] = df["High"].astype(float)


df["Low"] = df["Low"].astype(str)
df["Low"] = df["Low"].str.replace(",","")
df["Low"] = df["Low"].astype(float)

df["Vol."] = df["Vol."].astype(str)
df = df.sort_values(by='Date' , ascending=False).reset_index(drop=True)


df["Price - Open"] = df["Price"] - df["Open"]

df


sumof = []
year = []
maindf = df[df["Company Name"] == "Jindal Steel Ltd (JINT)"]
for x in range(2008 ,2026):
    year.append(x)
    year_to_filter = x
    filtered_df = maindf[maindf['Date'].dt.year == year_to_filter  ].copy()
    # sumvalue = filtered_df["Price"].sum()
    sumof.append(filtered_df)

rowsdata = pd.DataFrame({
    "Totle":sumof,
    "years":year})







plt.plot(rowsdata["years"],rowsdata["Totle"])
plt.axhline(y=rowsdata["Totle"].mean(), color='y', linestyle='--',label='Center')
plt.tight_layout()
plt.grid(True)
plt.legend()




