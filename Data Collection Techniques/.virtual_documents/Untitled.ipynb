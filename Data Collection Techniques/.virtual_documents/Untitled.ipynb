from bs4 import BeautifulSoup
import requests
import pandas as pd
from word2number import w2n



data =[]
for x in range(1,51):
    with open(f"HTML/page-{x}.html",'r',encoding='utf-8') as F:
        Html_Filed_Code = F.read()
    
    soup = BeautifulSoup(Html_Filed_Code, "lxml")
    article = soup.select("article.product_pod")
    for w in article:
        title = w.find("h3").find("a")["title"]
        price = w.select_one("p.price_color").text.replace("Â","")
        star_rating = w.select_one("p.star-rating")["class"][1]
        number = w2n.word_to_num(str(star_rating))
        data.append([title,number,price])
    print(f"page {x} is Done..")


data



