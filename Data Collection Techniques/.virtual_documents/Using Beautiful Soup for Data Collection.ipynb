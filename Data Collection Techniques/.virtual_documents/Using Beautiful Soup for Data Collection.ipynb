from bs4 import BeautifulSoup
import requests
import pandas as pd


with open("HTML/page-1.html","r") as f:
    rowhtml = f.read()
    
soup = BeautifulSoup(rowhtml, "lxml")


h3s = soup.find_all('h3')



articles = soup.select("article.product_pod")


data = []
for x in articles:
    title = x.find("h3").find("a")["title"]
    price = x.select_one("p.price_color").text.replace("Ã‚Â£","")
    rating = x.select_one("p.star-rating")
    rating_Class = rating["class"]
    data.append([title,price,rating_Class[1] ])
print("Done..")
    
pd.DataFrame(data,columns=["Book Name","Price","star rating"])






