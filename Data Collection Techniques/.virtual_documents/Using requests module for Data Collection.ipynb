import requests


for x in range(1,51):
    url = f"https://books.toscrape.com/catalogue/page-{x}.html"
    response = requests.get(url)
    with open(f"HTML/page-{x}.html","w",encoding="utf-8") as f:
        f.write(response.text)
    print(f'Pag Done{x} ')

# Print the HTML content
# print(response.text)
print(response.headers)



