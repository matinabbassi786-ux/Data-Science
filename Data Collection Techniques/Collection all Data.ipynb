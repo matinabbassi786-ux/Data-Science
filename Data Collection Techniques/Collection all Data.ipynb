{
 "cells": [
  {
   "cell_type": "code",
   "execution_count": 27,
   "id": "2fca255e-295b-48fe-a163-6055d59580ae",
   "metadata": {},
   "outputs": [],
   "source": [
    "from bs4 import BeautifulSoup\n",
    "import requests\n",
    "import pandas as pd\n",
    "from word2number import w2n\n"
   ]
  },
  {
   "cell_type": "code",
   "execution_count": 35,
   "id": "86ff351f-e062-4782-b4f5-b8efd801958a",
   "metadata": {},
   "outputs": [
    {
     "name": "stdout",
     "output_type": "stream",
     "text": [
      "page 1 is Done..\n",
      "page 2 is Done..\n",
      "page 3 is Done..\n",
      "page 4 is Done..\n",
      "page 5 is Done..\n",
      "page 6 is Done..\n",
      "page 7 is Done..\n",
      "page 8 is Done..\n",
      "page 9 is Done..\n",
      "page 10 is Done..\n",
      "page 11 is Done..\n",
      "page 12 is Done..\n",
      "page 13 is Done..\n",
      "page 14 is Done..\n",
      "page 15 is Done..\n",
      "page 16 is Done..\n",
      "page 17 is Done..\n",
      "page 18 is Done..\n",
      "page 19 is Done..\n",
      "page 20 is Done..\n",
      "page 21 is Done..\n",
      "page 22 is Done..\n",
      "page 23 is Done..\n",
      "page 24 is Done..\n",
      "page 25 is Done..\n",
      "page 26 is Done..\n",
      "page 27 is Done..\n",
      "page 28 is Done..\n",
      "page 29 is Done..\n",
      "page 30 is Done..\n",
      "page 31 is Done..\n",
      "page 32 is Done..\n",
      "page 33 is Done..\n",
      "page 34 is Done..\n",
      "page 35 is Done..\n",
      "page 36 is Done..\n",
      "page 37 is Done..\n",
      "page 38 is Done..\n",
      "page 39 is Done..\n",
      "page 40 is Done..\n",
      "page 41 is Done..\n",
      "page 42 is Done..\n",
      "page 43 is Done..\n",
      "page 44 is Done..\n",
      "page 45 is Done..\n",
      "page 46 is Done..\n",
      "page 47 is Done..\n",
      "page 48 is Done..\n",
      "page 49 is Done..\n",
      "page 50 is Done..\n"
     ]
    }
   ],
   "source": [
    "data =[]\n",
    "for x in range(1,51):\n",
    "    with open(f\"HTML/page-{x}.html\",'r',encoding='utf-8') as F:\n",
    "        Html_Filed_Code = F.read()\n",
    "    \n",
    "    soup = BeautifulSoup(Html_Filed_Code, \"lxml\")\n",
    "    article = soup.select(\"article.product_pod\")\n",
    "    for w in article:\n",
    "        title = w.find(\"h3\").find(\"a\")[\"title\"]\n",
    "        price = w.select_one(\"p.price_color\").text.replace(\"Â\",\"\")\n",
    "        star_rating = w.select_one(\"p.star-rating\")[\"class\"][1]\n",
    "        number = w2n.word_to_num(str(star_rating))\n",
    "        data.append([title,number,price])\n",
    "    print(f\"page {x} is Done..\")"
   ]
  },
  {
   "cell_type": "code",
   "execution_count": 38,
   "id": "6f38bb03-8f5b-48d8-8093-336f413e788b",
   "metadata": {},
   "outputs": [],
   "source": [
    "df = pd.DataFrame(data,columns=[\"Book Title\",\"Rating\",\"Price\"])\n",
    "df.to_csv(\"ALL_Book_Data.csv\",index=False)"
   ]
  },
  {
   "cell_type": "code",
   "execution_count": null,
   "id": "6e332946-4d53-46ec-bee3-f2dd27916d07",
   "metadata": {},
   "outputs": [],
   "source": []
  }
 ],
 "metadata": {
  "kernelspec": {
   "display_name": "Python 3 (ipykernel)",
   "language": "python",
   "name": "python3"
  },
  "language_info": {
   "codemirror_mode": {
    "name": "ipython",
    "version": 3
   },
   "file_extension": ".py",
   "mimetype": "text/x-python",
   "name": "python",
   "nbconvert_exporter": "python",
   "pygments_lexer": "ipython3",
   "version": "3.13.5"
  }
 },
 "nbformat": 4,
 "nbformat_minor": 5
}
