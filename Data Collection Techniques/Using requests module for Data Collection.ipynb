{
 "cells": [
  {
   "cell_type": "code",
   "execution_count": 20,
   "id": "612fb5c8-fb77-4a6f-9b7f-559be0c9ee15",
   "metadata": {},
   "outputs": [
    {
     "name": "stdout",
     "output_type": "stream",
     "text": [
      "Pag Done1 \n",
      "Pag Done2 \n",
      "Pag Done3 \n",
      "Pag Done4 \n",
      "Pag Done5 \n",
      "Pag Done6 \n",
      "Pag Done7 \n",
      "Pag Done8 \n",
      "Pag Done9 \n",
      "Pag Done10 \n",
      "Pag Done11 \n",
      "Pag Done12 \n",
      "Pag Done13 \n",
      "Pag Done14 \n",
      "Pag Done15 \n",
      "Pag Done16 \n",
      "Pag Done17 \n",
      "Pag Done18 \n",
      "Pag Done19 \n",
      "Pag Done20 \n",
      "Pag Done21 \n",
      "Pag Done22 \n",
      "Pag Done23 \n",
      "Pag Done24 \n",
      "Pag Done25 \n",
      "Pag Done26 \n",
      "Pag Done27 \n",
      "Pag Done28 \n",
      "Pag Done29 \n",
      "Pag Done30 \n",
      "Pag Done31 \n",
      "Pag Done32 \n",
      "Pag Done33 \n",
      "Pag Done34 \n",
      "Pag Done35 \n",
      "Pag Done36 \n",
      "Pag Done37 \n",
      "Pag Done38 \n",
      "Pag Done39 \n",
      "Pag Done40 \n",
      "Pag Done41 \n",
      "Pag Done42 \n",
      "Pag Done43 \n",
      "Pag Done44 \n",
      "Pag Done45 \n",
      "Pag Done46 \n",
      "Pag Done47 \n",
      "Pag Done48 \n",
      "Pag Done49 \n",
      "Pag Done50 \n",
      "{'Date': 'Thu, 30 Oct 2025 08:26:20 GMT', 'Content-Type': 'text/html', 'Transfer-Encoding': 'chunked', 'Connection': 'keep-alive', 'Last-Modified': 'Wed, 08 Feb 2023 21:02:32 GMT', 'ETag': 'W/\"63e40de8-c4fb\"', 'Strict-Transport-Security': 'max-age=0; includeSubDomains; preload', 'Content-Encoding': 'br'}\n"
     ]
    }
   ],
   "source": [
    "import requests\n",
    "\n",
    "\n",
    "for x in range(1,51):\n",
    "    url = f\"https://books.toscrape.com/catalogue/page-{x}.html\"\n",
    "    response = requests.get(url)\n",
    "    with open(f\"HTML/page-{x}.html\",\"w\",encoding=\"utf-8\") as f:\n",
    "        f.write(response.text)\n",
    "    print(f'Pag Done{x} ')\n",
    "\n",
    "# Print the HTML content\n",
    "# print(response.text)\n",
    "print(response.headers)"
   ]
  },
  {
   "cell_type": "code",
   "execution_count": null,
   "id": "c28337c7-b1bc-48dc-b451-74463b5147e9",
   "metadata": {},
   "outputs": [],
   "source": []
  }
 ],
 "metadata": {
  "kernelspec": {
   "display_name": "Python 3 (ipykernel)",
   "language": "python",
   "name": "python3"
  },
  "language_info": {
   "codemirror_mode": {
    "name": "ipython",
    "version": 3
   },
   "file_extension": ".py",
   "mimetype": "text/x-python",
   "name": "python",
   "nbconvert_exporter": "python",
   "pygments_lexer": "ipython3",
   "version": "3.13.5"
  }
 },
 "nbformat": 4,
 "nbformat_minor": 5
}
