{
 "cells": [
  {
   "cell_type": "code",
   "execution_count": 2,
   "id": "80ac56f3-599d-423b-a61f-c6bd2fd1416a",
   "metadata": {},
   "outputs": [],
   "source": [
    "import numpy as np"
   ]
  },
  {
   "cell_type": "code",
   "execution_count": 3,
   "id": "614dd07d-9332-4d84-9b43-2e3c5e472a03",
   "metadata": {},
   "outputs": [
    {
     "data": {
      "text/plain": [
       "dtype('int64')"
      ]
     },
     "execution_count": 3,
     "metadata": {},
     "output_type": "execute_result"
    }
   ],
   "source": [
    "arr = np.array([12,42,54])\n",
    "arr.dtype"
   ]
  },
  {
   "cell_type": "code",
   "execution_count": 5,
   "id": "897f090b-12cc-4335-b133-35c6e7bfa6ac",
   "metadata": {},
   "outputs": [
    {
     "data": {
      "text/plain": [
       "array([12., 42., 54.])"
      ]
     },
     "execution_count": 5,
     "metadata": {},
     "output_type": "execute_result"
    }
   ],
   "source": [
    "arr.astype(np.float64)"
   ]
  },
  {
   "cell_type": "code",
   "execution_count": 7,
   "id": "9e4fe6a0-1c85-45ff-b8e0-4b6b225659c3",
   "metadata": {},
   "outputs": [
    {
     "data": {
      "text/plain": [
       "array([1000000, 2000000, 3000000])"
      ]
     },
     "execution_count": 7,
     "metadata": {},
     "output_type": "execute_result"
    }
   ],
   "source": [
    "arr_large = np.array([1000000, 2000000, 3000000], dtype=np.int64)\n",
    "arr_large"
   ]
  },
  {
   "cell_type": "code",
   "execution_count": 9,
   "id": "375b0f93-1f5c-4c0f-99e6-834ef3498508",
   "metadata": {},
   "outputs": [
    {
     "data": {
      "text/plain": [
       "array([1000000, 2000000, 3000000], dtype=int32)"
      ]
     },
     "execution_count": 9,
     "metadata": {},
     "output_type": "execute_result"
    }
   ],
   "source": [
    "arr_small = arr_large.astype(np.int32)\n",
    "arr_small"
   ]
  },
  {
   "cell_type": "code",
   "execution_count": 10,
   "id": "15293b66-1457-4d71-9620-f5cc623a0f84",
   "metadata": {},
   "outputs": [
    {
     "data": {
      "text/plain": [
       "24"
      ]
     },
     "execution_count": 10,
     "metadata": {},
     "output_type": "execute_result"
    }
   ],
   "source": [
    "arr_large.nbytes"
   ]
  },
  {
   "cell_type": "code",
   "execution_count": 11,
   "id": "3b335ed9-2d47-4a48-b2c1-508fb9cfccdb",
   "metadata": {},
   "outputs": [
    {
     "data": {
      "text/plain": [
       "12"
      ]
     },
     "execution_count": 11,
     "metadata": {},
     "output_type": "execute_result"
    }
   ],
   "source": [
    "arr_small.nbytes"
   ]
  },
  {
   "cell_type": "code",
   "execution_count": 13,
   "id": "22ccc288-ace5-4a75-8408-28c093bab366",
   "metadata": {},
   "outputs": [
    {
     "data": {
      "text/plain": [
       "array(['aple', 'king', 'how'], dtype='<U4')"
      ]
     },
     "execution_count": 13,
     "metadata": {},
     "output_type": "execute_result"
    }
   ],
   "source": [
    "arr = np.array([\"aple\",\"king\",\"how\"])\n",
    "arr"
   ]
  },
  {
   "cell_type": "code",
   "execution_count": 14,
   "id": "17a50451-b30e-4e7d-9b2b-db3c5187bef0",
   "metadata": {},
   "outputs": [
    {
     "name": "stdout",
     "output_type": "stream",
     "text": [
      "[1.+2.j 3.+4.j 5.+6.j]\n"
     ]
    }
   ],
   "source": [
    "arr = np.array([1 + 2j, 3 + 4j, 5 + 6j], dtype='complex128')\n",
    "print(arr)"
   ]
  },
  {
   "cell_type": "code",
   "execution_count": null,
   "id": "7edb82f1-6852-44ca-9db6-e944a69ea873",
   "metadata": {},
   "outputs": [],
   "source": []
  }
 ],
 "metadata": {
  "kernelspec": {
   "display_name": "Python [conda env:base] *",
   "language": "python",
   "name": "conda-base-py"
  },
  "language_info": {
   "codemirror_mode": {
    "name": "ipython",
    "version": 3
   },
   "file_extension": ".py",
   "mimetype": "text/x-python",
   "name": "python",
   "nbconvert_exporter": "python",
   "pygments_lexer": "ipython3",
   "version": "3.13.5"
  }
 },
 "nbformat": 4,
 "nbformat_minor": 5
}
