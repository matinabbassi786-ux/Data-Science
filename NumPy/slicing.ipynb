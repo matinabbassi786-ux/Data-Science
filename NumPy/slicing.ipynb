{
 "cells": [
  {
   "cell_type": "code",
   "execution_count": 1,
   "id": "43ec0d69-6694-423a-98ef-6109e5c42f18",
   "metadata": {},
   "outputs": [],
   "source": [
    "import numpy as np"
   ]
  },
  {
   "cell_type": "code",
   "execution_count": 40,
   "id": "2ba0a98d-ca9b-4937-b1b5-36eaba5d5d0a",
   "metadata": {},
   "outputs": [
    {
     "data": {
      "text/plain": [
       "array([[1, 2, 3],\n",
       "       [4, 5, 6],\n",
       "       [7, 8, 9]])"
      ]
     },
     "execution_count": 40,
     "metadata": {},
     "output_type": "execute_result"
    }
   ],
   "source": [
    "arr = np.array([[1,2,3],[4,5,6],[7,8,9]])\n",
    "arr"
   ]
  },
  {
   "cell_type": "code",
   "execution_count": 12,
   "id": "22077801-1adb-48f6-a937-6c81c35292e4",
   "metadata": {},
   "outputs": [
    {
     "data": {
      "text/plain": [
       "array([1, 2, 3, 4, 5, 6, 7, 8, 9])"
      ]
     },
     "execution_count": 12,
     "metadata": {},
     "output_type": "execute_result"
    }
   ],
   "source": [
    "flat = arr.flatten()\n",
    "flat"
   ]
  },
  {
   "cell_type": "code",
   "execution_count": 25,
   "id": "ac5da8cd-8b6c-4aeb-9028-b624bbafc81d",
   "metadata": {},
   "outputs": [
    {
     "data": {
      "text/plain": [
       "array([1, 3, 5, 7, 9])"
      ]
     },
     "execution_count": 25,
     "metadata": {},
     "output_type": "execute_result"
    }
   ],
   "source": [
    "flat[0]\n",
    "flat[5]\n",
    "flat[3:10]\n",
    "flat[::2]"
   ]
  },
  {
   "cell_type": "code",
   "execution_count": 35,
   "id": "174dcd3b-2084-4fb6-aa88-644074b2840f",
   "metadata": {},
   "outputs": [
    {
     "name": "stdout",
     "output_type": "stream",
     "text": [
      "[999   5   6]\n"
     ]
    }
   ],
   "source": [
    "b = flat[3:6]\n",
    "b[0] = 999\n",
    "print(b)"
   ]
  },
  {
   "cell_type": "code",
   "execution_count": 36,
   "id": "e3787fac-4e52-4758-99dc-c68b59a19212",
   "metadata": {},
   "outputs": [
    {
     "data": {
      "text/plain": [
       "array([  1,   2,   3, 999,   5,   6,   7,   8,   9])"
      ]
     },
     "execution_count": 36,
     "metadata": {},
     "output_type": "execute_result"
    }
   ],
   "source": [
    "flat"
   ]
  },
  {
   "cell_type": "code",
   "execution_count": 43,
   "id": "efb0b1a5-ac73-4bf5-908d-b1bee2a27dfb",
   "metadata": {},
   "outputs": [
    {
     "name": "stdout",
     "output_type": "stream",
     "text": [
      "[999 999   6]\n"
     ]
    }
   ],
   "source": [
    "b = flat[3:6].copy()\n",
    "b[1] = 999\n",
    "print(b)"
   ]
  },
  {
   "cell_type": "code",
   "execution_count": 44,
   "id": "fc9cbd3a-eaf3-42e5-aee9-8ce0070e2086",
   "metadata": {},
   "outputs": [
    {
     "data": {
      "text/plain": [
       "array([  1,   2,   3, 999,   5,   6,   7,   8,   9])"
      ]
     },
     "execution_count": 44,
     "metadata": {},
     "output_type": "execute_result"
    }
   ],
   "source": [
    "flat"
   ]
  },
  {
   "cell_type": "code",
   "execution_count": 48,
   "id": "5c99fea0-6ab5-4a18-b985-f6c8b6162815",
   "metadata": {},
   "outputs": [],
   "source": [
    "arr = np.array([12,46,64,12,56,124])"
   ]
  },
  {
   "cell_type": "code",
   "execution_count": 51,
   "id": "22cb59c2-6ba0-4dad-8fd4-e914680a06ee",
   "metadata": {},
   "outputs": [
    {
     "data": {
      "text/plain": [
       "array([46, 12, 12])"
      ]
     },
     "execution_count": 51,
     "metadata": {},
     "output_type": "execute_result"
    }
   ],
   "source": [
    "arr[[1,3,0]]"
   ]
  },
  {
   "cell_type": "code",
   "execution_count": 52,
   "id": "9bc01fb7-8723-4f69-9cde-518405b608bd",
   "metadata": {},
   "outputs": [
    {
     "data": {
      "text/plain": [
       "array([12, 46, 12])"
      ]
     },
     "execution_count": 52,
     "metadata": {},
     "output_type": "execute_result"
    }
   ],
   "source": [
    "arr[arr <50]"
   ]
  },
  {
   "cell_type": "code",
   "execution_count": 62,
   "id": "f669af61-cd8c-4331-ab03-43de495fe951",
   "metadata": {},
   "outputs": [
    {
     "data": {
      "text/plain": [
       "(3, 3)"
      ]
     },
     "execution_count": 62,
     "metadata": {},
     "output_type": "execute_result"
    }
   ],
   "source": [
    "qw = np.array([[10,22,33],[4.4,5.5,6.6],[77,88,99]])\n",
    "qw.shape"
   ]
  },
  {
   "cell_type": "code",
   "execution_count": 75,
   "id": "84341953-a739-46a5-8faf-a65172d0d954",
   "metadata": {},
   "outputs": [
    {
     "name": "stdout",
     "output_type": "stream",
     "text": [
      "[[10 22 33]\n",
      " [ 4  5  6]\n",
      " [77 88 99]]\n"
     ]
    }
   ],
   "source": [
    "myarr = qw.astype(int)\n",
    "print(myarr)\n",
    "myarr = myarr.flatten()"
   ]
  },
  {
   "cell_type": "code",
   "execution_count": 82,
   "id": "d43b69a3-0594-40a7-8e82-f161f6034dd1",
   "metadata": {},
   "outputs": [
    {
     "data": {
      "text/plain": [
       "array([10, 22,  4,  6, 88])"
      ]
     },
     "execution_count": 82,
     "metadata": {},
     "output_type": "execute_result"
    }
   ],
   "source": [
    "myarr[myarr %2 == 0]"
   ]
  },
  {
   "cell_type": "code",
   "execution_count": 84,
   "id": "c17ab051-0ff0-4cda-aaa0-8ef716d37d4d",
   "metadata": {},
   "outputs": [],
   "source": [
    "myarr.resize(9)"
   ]
  },
  {
   "cell_type": "code",
   "execution_count": 85,
   "id": "eb29131f-1d56-4764-b890-74f8e2f3ab87",
   "metadata": {},
   "outputs": [
    {
     "data": {
      "text/plain": [
       "array([10, 22, 33,  4,  5,  6, 77, 88, 99])"
      ]
     },
     "execution_count": 85,
     "metadata": {},
     "output_type": "execute_result"
    }
   ],
   "source": [
    "myarr"
   ]
  },
  {
   "cell_type": "code",
   "execution_count": 86,
   "id": "40b6d704-f80b-4736-92dd-8f6d85851f59",
   "metadata": {},
   "outputs": [
    {
     "data": {
      "text/plain": [
       "array([77, 88, 99])"
      ]
     },
     "execution_count": 86,
     "metadata": {},
     "output_type": "execute_result"
    }
   ],
   "source": [
    "myarr[myarr > 50]"
   ]
  },
  {
   "cell_type": "code",
   "execution_count": null,
   "id": "52e90e48-2b47-4da4-b3e7-01a6088087df",
   "metadata": {},
   "outputs": [],
   "source": []
  }
 ],
 "metadata": {
  "kernelspec": {
   "display_name": "Python [conda env:base] *",
   "language": "python",
   "name": "conda-base-py"
  },
  "language_info": {
   "codemirror_mode": {
    "name": "ipython",
    "version": 3
   },
   "file_extension": ".py",
   "mimetype": "text/x-python",
   "name": "python",
   "nbconvert_exporter": "python",
   "pygments_lexer": "ipython3",
   "version": "3.13.5"
  }
 },
 "nbformat": 4,
 "nbformat_minor": 5
}
