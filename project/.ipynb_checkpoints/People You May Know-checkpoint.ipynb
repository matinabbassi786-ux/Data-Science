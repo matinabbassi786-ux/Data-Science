{
 "cells": [
  {
   "cell_type": "code",
   "execution_count": 12,
   "id": "cbd22f65-0566-4b10-aab4-59c1d2de8556",
   "metadata": {},
   "outputs": [],
   "source": [
    "import json"
   ]
  },
  {
   "cell_type": "code",
   "execution_count": 14,
   "id": "8450d8d5-1614-49dc-bfef-7e60e7636628",
   "metadata": {},
   "outputs": [],
   "source": [
    "def load_data(filename):\n",
    "    with open(filename, \"r\") as file:\n",
    "        return json.load(file)"
   ]
  },
  {
   "cell_type": "code",
   "execution_count": 110,
   "id": "5bb9449d-9712-4844-8469-28e4c81a3aea",
   "metadata": {},
   "outputs": [],
   "source": [
    "def People_You_May_Know(id,data):\n",
    "    data_friends = set(x for y in data[\"users\"] if y [\"id\"]== id for x in y[\"friends\"] )\n",
    "    \n",
    "    sub_friends =[]\n",
    "    coman_friends =  set()\n",
    "    \n",
    "    for x in data_friends:\n",
    "        for y in data[\"users\"]:\n",
    "            if x == y['id']:\n",
    "                sub_friends.append(y[\"friends\"])\n",
    "    \n",
    "    subfriends = set(x for y in sub_friends for x in y ).symmetric_difference(data_friends)\n",
    "    subfriends.remove(id)\n",
    "    sub_friends2 =list([x for y in sub_friends for x in y])\n",
    "    sub_friends3 = []\n",
    "    max_sub = []\n",
    "    for x in subfriends:\n",
    "        max_sub.append(sub_friends2.count(x))\n",
    "        sub_friends3.append([x,sub_friends2.count(x)])\n",
    "\n",
    "    subfriends.clear()\n",
    "    for x in range(max(max_sub),-1, -1) :\n",
    "        for y in sub_friends3:\n",
    "            if y[1] == x:\n",
    "                print(y)\n",
    "    \n",
    "    print(\"=====\")\n",
    "    print(max(max_sub))\n",
    "    print(sub_friends3)\n",
    "    print(data_friends)\n",
    "    print(subfriends)\n",
    "    return subfriends\n",
    "        \n",
    "    \n",
    "    "
   ]
  },
  {
   "cell_type": "code",
   "execution_count": 111,
   "id": "5299dc51-92d5-4a9a-babb-100b0bedcab1",
   "metadata": {},
   "outputs": [
    {
     "name": "stdout",
     "output_type": "stream",
     "text": [
      "[7, 2]\n",
      "[8, 2]\n",
      "[20, 2]\n",
      "[9, 1]\n",
      "[10, 1]\n",
      "[11, 1]\n",
      "[12, 1]\n",
      "=====\n",
      "2\n",
      "[[7, 2], [8, 2], [9, 1], [10, 1], [11, 1], [12, 1], [20, 2]]\n",
      "{2, 3, 4, 5, 6}\n",
      "{7, 8, 9, 10, 11, 12, 20}\n"
     ]
    }
   ],
   "source": [
    "data = load_data(\"r1.json\")\n",
    "answers = People_You_May_Know(1,data)\n",
    "# print(answers)\n"
   ]
  },
  {
   "cell_type": "code",
   "execution_count": null,
   "id": "6602d2c1-66de-4f68-a19e-30f59633ab98",
   "metadata": {},
   "outputs": [],
   "source": []
  },
  {
   "cell_type": "code",
   "execution_count": null,
   "id": "d5851a01-5294-4ed2-9758-b5cf1c1450a9",
   "metadata": {},
   "outputs": [],
   "source": []
  }
 ],
 "metadata": {
  "kernelspec": {
   "display_name": "Python [conda env:base] *",
   "language": "python",
   "name": "conda-base-py"
  },
  "language_info": {
   "codemirror_mode": {
    "name": "ipython",
    "version": 3
   },
   "file_extension": ".py",
   "mimetype": "text/x-python",
   "name": "python",
   "nbconvert_exporter": "python",
   "pygments_lexer": "ipython3",
   "version": "3.13.5"
  }
 },
 "nbformat": 4,
 "nbformat_minor": 5
}
