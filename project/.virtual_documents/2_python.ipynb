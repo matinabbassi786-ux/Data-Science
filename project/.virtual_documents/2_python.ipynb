import json



with open('w2.json','r') as F:
    rowdata = F.read()
    data = json.loads(rowdata)

for index,x in enumerate(data["users"]):
    if x["name"] == "":    
        data["users"].pop(index)
    if len( x["friends"]) == 0:
        data["users"].pop(index)

for index,x in enumerate(data["users"]):
  

    






