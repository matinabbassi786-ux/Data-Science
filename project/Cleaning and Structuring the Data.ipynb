{
 "cells": [
  {
   "cell_type": "code",
   "execution_count": 1,
   "id": "ca69e5a2-c8d3-4917-9644-08be00542677",
   "metadata": {},
   "outputs": [],
   "source": [
    "import json\n"
   ]
  },
  {
   "cell_type": "code",
   "execution_count": 1,
   "id": "1eccdfc7-9859-46e4-827b-ad01d3099eb9",
   "metadata": {},
   "outputs": [],
   "source": [
    "with open('w2.json','r') as F:\n",
    "    rowdata = F.read()\n",
    "    data = json.loads(rowdata)\n",
    "\n",
    "for index,x in enumerate(data[\"users\"]):\n",
    "    if x[\"name\"] == \"\":    \n",
    "        data[\"users\"].pop(index)\n",
    "    if len( x[\"friends\"]) == 0:\n",
    "        data[\"users\"].pop(index)\n",
    "\n",
    "for index,x in enumerate(data[\"users\"]):\n",
    "    for a in range(0,len(x[\"friends\"])-1):\n",
    "        for b in range(1,len(x[\"friends\"])):\n",
    "           if x[\"friends\"][a] ==  x[\"friends\"][b]:\n",
    "             data[\"users\"][index][\"friends\"].remove(x[\"friends\"][b])\n",
    "\n",
    "           \n",
    "aq2 =  []\n",
    "duplicates = set()\n",
    "seen = set()\n",
    "\n",
    "for x in data[\"pages\"]:\n",
    "    aq2.append(x[\"id\"])\n",
    "    \n",
    "for item in aq2:\n",
    "        if item in seen:\n",
    "            duplicates.add(item)\n",
    "        else:\n",
    "            seen.add(item)\n",
    "for index,x in enumerate(data[\"pages\"]):\n",
    "    for q in duplicates:\n",
    "        if x[\"id\"] == q:\n",
    "            data[\"pages\"].pop(index)"
   ]
  },
  {
   "cell_type": "code",
   "execution_count": 38,
   "id": "a4948159-2ff0-4f13-8b62-bd0b9bf25707",
   "metadata": {},
   "outputs": [
    {
     "data": {
      "text/plain": [
       "{'users': [{'id': 1, 'name': 'Amit', 'friends': [2, 3], 'liked_pages': [101]},\n",
       "  {'id': 2, 'name': 'Priya', 'friends': [1, 4], 'liked_pages': [102]},\n",
       "  {'id': 4, 'name': 'Sara', 'friends': [2], 'liked_pages': [104]}],\n",
       " 'pages': [{'id': 101, 'name': 'Python Developers'},\n",
       "  {'id': 102, 'name': 'Data Science Enthusiasts'},\n",
       "  {'id': 103, 'name': 'AI & ML Community'},\n",
       "  {'id': 104, 'name': 'Web Development'}]}"
      ]
     },
     "execution_count": 38,
     "metadata": {},
     "output_type": "execute_result"
    }
   ],
   "source": [
    "\n",
    "data"
   ]
  },
  {
   "cell_type": "code",
   "execution_count": null,
   "id": "3a62131c-b827-4e03-8067-ab7e18abfe3b",
   "metadata": {},
   "outputs": [],
   "source": []
  }
 ],
 "metadata": {
  "kernelspec": {
   "display_name": "Python [conda env:base] *",
   "language": "python",
   "name": "conda-base-py"
  },
  "language_info": {
   "codemirror_mode": {
    "name": "ipython",
    "version": 3
   },
   "file_extension": ".py",
   "mimetype": "text/x-python",
   "name": "python",
   "nbconvert_exporter": "python",
   "pygments_lexer": "ipython3",
   "version": "3.13.5"
  }
 },
 "nbformat": 4,
 "nbformat_minor": 5
}
