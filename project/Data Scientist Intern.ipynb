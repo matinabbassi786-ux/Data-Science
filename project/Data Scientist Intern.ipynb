{
 "cells": [
  {
   "cell_type": "code",
   "execution_count": 4,
   "id": "1ae95760-3f4b-4713-8d07-d19de995c293",
   "metadata": {},
   "outputs": [],
   "source": [
    "import json"
   ]
  },
  {
   "cell_type": "code",
   "execution_count": 5,
   "id": "77ea1603-c0b1-46a3-a582-c843c034b392",
   "metadata": {},
   "outputs": [],
   "source": [
    "with open(\"data.json\",\"r\") as f:\n",
    "    rowdata = f.read()\n",
    "    data = json.loads(rowdata)"
   ]
  },
  {
   "cell_type": "code",
   "execution_count": 7,
   "id": "c268fe57-1c9f-44c5-9936-b5fa70208cfb",
   "metadata": {},
   "outputs": [
    {
     "name": "stdout",
     "output_type": "stream",
     "text": [
      "\n",
      "                                             User List                                              \n",
      "\n",
      "===================================================================================================================\n",
      "\n",
      "ID: 1  Name Is Amit , friends are ['Priya', 'Rahul'] , liked pages are ['Python Developers'] \n",
      "\n",
      "===================================================================================================================\n",
      "\n",
      "ID: 2  Name Is Priya , friends are ['Amit', 'Sara'] , liked pages are ['Data Science Enthusiasts'] \n",
      "\n",
      "===================================================================================================================\n",
      "\n",
      "ID: 3  Name Is Rahul , friends are ['Amit'] , liked pages are ['Python Developers', 'AI & ML Community'] \n",
      "\n",
      "===================================================================================================================\n",
      "\n",
      "ID: 4  Name Is Sara , friends are ['Priya'] , liked pages are ['Web Dev Hub'] \n",
      "\n",
      "===================================================================================================================\n"
     ]
    }
   ],
   "source": [
    "print(f\"\\n{'User List ':^100}\\n\")\n",
    "print(f\"{'':=^115}\")\n",
    "for x in data['users']:\n",
    "    UserName = x[\"name\"]\n",
    "    Userfriends = []\n",
    "    liked_pages = []\n",
    "\n",
    "    for a in x[\"friends\"]:\n",
    "       for q in data['users']:\n",
    "           if q[\"id\"] == a:\n",
    "               Userfriends.append(q[\"name\"])\n",
    "               \n",
    "    for a in x[\"liked_pages\"]:\n",
    "       for q in data['pages']:\n",
    "           if q[\"id\"] == a:\n",
    "               liked_pages.append(q[\"name\"])\n",
    "   \n",
    "    print(f\"\\nID: {x[\"id\"]}  Name Is {UserName} , friends are {Userfriends} , liked pages are {liked_pages} \\n\")\n",
    "    print(f\"{'':=^115}\")\n",
    "\n"
   ]
  },
  {
   "cell_type": "code",
   "execution_count": null,
   "id": "eea1e569-41ea-4d8f-a4e1-206975d0503c",
   "metadata": {},
   "outputs": [],
   "source": []
  }
 ],
 "metadata": {
  "kernelspec": {
   "display_name": "Python [conda env:base] *",
   "language": "python",
   "name": "conda-base-py"
  },
  "language_info": {
   "codemirror_mode": {
    "name": "ipython",
    "version": 3
   },
   "file_extension": ".py",
   "mimetype": "text/x-python",
   "name": "python",
   "nbconvert_exporter": "python",
   "pygments_lexer": "ipython3",
   "version": "3.13.5"
  }
 },
 "nbformat": 4,
 "nbformat_minor": 5
}
