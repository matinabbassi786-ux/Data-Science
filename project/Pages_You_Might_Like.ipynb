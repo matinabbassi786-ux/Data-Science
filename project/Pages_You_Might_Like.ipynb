{
 "cells": [
  {
   "cell_type": "markdown",
   "id": "802697e1-694a-41b0-aa52-02e193fc5d61",
   "metadata": {},
   "source": [
    "# Finding \"Pages You Might Like\"\n"
   ]
  },
  {
   "cell_type": "code",
   "execution_count": 46,
   "id": "8f6c3261-d4d9-4fcb-93b8-32faf7e8092a",
   "metadata": {},
   "outputs": [],
   "source": [
    "\n",
    "import json\n",
    "\n",
    "def data_loada(filename):\n",
    "    with open(filename,\"r\") as f:\n",
    "        return json.load(f)"
   ]
  },
  {
   "cell_type": "code",
   "execution_count": 117,
   "id": "822b6f4a-cfbd-4221-9888-92d0749f42ea",
   "metadata": {},
   "outputs": [],
   "source": [
    "\n",
    "def Pages_You_Might_Like(id,data):\n",
    "    User_friends_liked_pages = set(x for q in data[\"users\"] if q[\"id\"] == id for x in q[\"liked_pages\"])\n",
    "    User_friends = [x for q in data[\"users\"] if q[\"id\"] == id for x in q[\"friends\"] ]\n",
    "    User_friends_liked_pages = set(x  for q in User_friends for w in data[\"users\"] if w[\"id\"] == q for x in w[\"liked_pages\"] for q in User_friends for w in data[\"users\"] if w[\"id\"] == q for x in w[\"liked_pages\"] ) - User_friends_liked_pages\n",
    "\n",
    "    all_friends_liked_pages = [x for q in User_friends for z in data[\"users\"]  if z[\"id\"] == q for x in z[\"liked_pages\"]]\n",
    "    score = []\n",
    "    maxnuber = []\n",
    "\n",
    "    for x in User_friends_liked_pages:\n",
    "        maxnuber.append(all_friends_liked_pages.count(x))\n",
    "        score.append([x,all_friends_liked_pages.count(x)])\n",
    "    maxnuber = max(maxnuber)\n",
    "    \n",
    "    return [y[0] for x in range(maxnuber,-1,-1) for y in score if y[1] == x ]\n",
    "  \n",
    "        "
   ]
  },
  {
   "cell_type": "code",
   "execution_count": 118,
   "id": "bdc454d7-0c88-44fe-b2d0-5ffe8176dfef",
   "metadata": {},
   "outputs": [
    {
     "name": "stdout",
     "output_type": "stream",
     "text": [
      "[103, 104, 105, 106]\n"
     ]
    }
   ],
   "source": [
    "\n",
    "data  = data_loada(\"r1.json\")\n",
    "answer =  Pages_You_Might_Like(1,data)\n",
    "print(answer)"
   ]
  },
  {
   "cell_type": "code",
   "execution_count": null,
   "id": "03fb61bd-fc02-4933-a56f-424c3c7268d4",
   "metadata": {},
   "outputs": [],
   "source": []
  }
 ],
 "metadata": {
  "kernelspec": {
   "display_name": "Python [conda env:base] *",
   "language": "python",
   "name": "conda-base-py"
  },
  "language_info": {
   "codemirror_mode": {
    "name": "ipython",
    "version": 3
   },
   "file_extension": ".py",
   "mimetype": "text/x-python",
   "name": "python",
   "nbconvert_exporter": "python",
   "pygments_lexer": "ipython3",
   "version": "3.13.5"
  }
 },
 "nbformat": 4,
 "nbformat_minor": 5
}
