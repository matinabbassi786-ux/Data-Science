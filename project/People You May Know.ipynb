{
 "cells": [
  {
   "cell_type": "markdown",
   "id": "456ec533-daad-4642-8fba-a7d8f65746c4",
   "metadata": {},
   "source": [
    "# Finding \"People You May Know\"\n",
    "Now that our data is cleaned and structured, your manager assigns you a new task: Build a 'People You May Know' feature!\n",
    "\n",
    "In social networks, this feature helps users connect with others by suggesting friends based on mutual connections. Your job is to analyze mutual friends and recommend potential connections."
   ]
  },
  {
   "cell_type": "markdown",
   "id": "ee94ef13-f5dd-4ec5-82fe-663a97a3ff98",
   "metadata": {},
   "source": [
    "# Task 1: Understand the Logic\n",
    "## How 'People You May Know' Works:\n",
    "- If User A and User B are not friends but have mutual friends, we suggest User B to User A and vice versa.\n",
    "- More mutual friends = higher priority recommendation.\n",
    "Example:\n",
    "\n",
    "- **Amit (ID: 1)** is friends with Priya (ID: 2) and Rahul (ID: 3).\n",
    "- **Priya (ID: 2)** is friends with Sara (ID: 4).\n",
    "- Amit is not directly friends with Sara, but they share Priya as a mutual friend.\n",
    "- Suggest Sara to Amit as \"People You May Know\".\n",
    " -But there are cases where we will have more than one \"People You May Know\". In those cases, greater the number of mutual friends, higher the probability that the user might know the person we are recommending.\n",
    "\n"
   ]
  },
  {
   "cell_type": "code",
   "execution_count": 12,
   "id": "cbd22f65-0566-4b10-aab4-59c1d2de8556",
   "metadata": {},
   "outputs": [],
   "source": [
    "import json"
   ]
  },
  {
   "cell_type": "code",
   "execution_count": 185,
   "id": "8450d8d5-1614-49dc-bfef-7e60e7636628",
   "metadata": {},
   "outputs": [],
   "source": [
    "\n",
    "# this function converte Json string to Json \n",
    "def load_data(filename): \n",
    "    with open(filename, \"r\") as file:\n",
    "        return json.load(file)\n"
   ]
  },
  {
   "cell_type": "code",
   "execution_count": 7,
   "id": "5bb9449d-9712-4844-8469-28e4c81a3aea",
   "metadata": {},
   "outputs": [],
   "source": [
    "\n",
    "def People_You_May_Know(id,data):\n",
    "    data_friends = set(x for y in data[\"users\"] if y [\"id\"]== id for x in y[\"friends\"] ) # this collection User  friends\n",
    "    \n",
    "    sub_friends =[]\n",
    "    coman_friends =  set()\n",
    "    \n",
    "    for x in data_friends:  # this loop User  friends\n",
    "        for y in data[\"users\"]:\n",
    "            if x == y['id']: # this chick if  friends id is equal to  friends id\n",
    "                sub_friends.append(y[\"friends\"]) # now collection   sub  friends\n",
    "    \n",
    "    subfriends = set(x for y in sub_friends for x in y ).symmetric_difference(data_friends) \n",
    "    subfriends.remove(id)\n",
    "    \n",
    "    sub_friends2 =list([x for y in sub_friends for x in y])\n",
    "    sub_friends3 = []\n",
    "    max_sub = []\n",
    "    \n",
    "    for x in subfriends:# find out which friends are commone \n",
    "        max_sub.append(sub_friends2.count(x))\n",
    "        sub_friends3.append([x,sub_friends2.count(x)])\n",
    "                \n",
    "    return [ y[0] for x in range(max(max_sub),-1, -1)  for y in sub_friends3  if y[1] == x  ]\n",
    "        "
   ]
  },
  {
   "cell_type": "code",
   "execution_count": 8,
   "id": "5299dc51-92d5-4a9a-babb-100b0bedcab1",
   "metadata": {},
   "outputs": [],
   "source": [
    "def Get_User_Name(id,data):\n",
    "    rowdata = [q for x in id for q in data[\"users\"] if x == q[\"id\"] ]\n",
    "    return rowdata"
   ]
  },
  {
   "cell_type": "code",
   "execution_count": 10,
   "id": "844173fb-75de-42fb-be72-7b0a63052255",
   "metadata": {},
   "outputs": [
    {
     "name": "stdout",
     "output_type": "stream",
     "text": [
      "[7, 8, 20, 9, 10, 11, 12]\n"
     ]
    }
   ],
   "source": [
    "\n",
    "data = load_data(\"r1.json\")\n",
    "answers = People_You_May_Know(1,data)\n",
    "print(answers)\n",
    "\n"
   ]
  },
  {
   "cell_type": "markdown",
   "id": "7baaa04b-1e4e-4cba-a97c-5aa1664cc143",
   "metadata": {},
   "source": [
    "# Output: [7, 8, 20, 9, 10, 11, 12]"
   ]
  },
  {
   "cell_type": "code",
   "execution_count": null,
   "id": "4396f4b2-621b-411e-874f-942a85bb2a3f",
   "metadata": {},
   "outputs": [],
   "source": [
    "\n",
    "code check is good or bad\n",
    " "
   ]
  }
 ],
 "metadata": {
  "kernelspec": {
   "display_name": "Python [conda env:base] *",
   "language": "python",
   "name": "conda-base-py"
  },
  "language_info": {
   "codemirror_mode": {
    "name": "ipython",
    "version": 3
   },
   "file_extension": ".py",
   "mimetype": "text/x-python",
   "name": "python",
   "nbconvert_exporter": "python",
   "pygments_lexer": "ipython3",
   "version": "3.13.5"
  }
 },
 "nbformat": 4,
 "nbformat_minor": 5
}
