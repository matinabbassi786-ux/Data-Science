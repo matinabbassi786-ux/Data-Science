{
 "cells": [
  {
   "cell_type": "code",
   "execution_count": 24,
   "id": "29b67967-45b9-45b3-96b7-1cba207e9d8e",
   "metadata": {},
   "outputs": [],
   "source": [
    "import json\n",
    " \n",
    "data = {\"name\": \"Alice\", \"age\": 25, \"city\": \"New York\"}"
   ]
  },
  {
   "cell_type": "code",
   "execution_count": 25,
   "id": "18066051-906b-4dc4-8017-76ac91009316",
   "metadata": {},
   "outputs": [
    {
     "name": "stdout",
     "output_type": "stream",
     "text": [
      "{\"name\": \"Alice\", \"age\": 25, \"city\": \"New York\"}\n",
      "<class 'str'>\n"
     ]
    }
   ],
   "source": [
    "json_string = json.dumps(data)\n",
    "print(json_string)  # Output: {\"name\": \"Alice\", \"age\": 25, \"city\": \"New York\"}\n",
    "print(type(json_string))  # <class 'str'>"
   ]
  },
  {
   "cell_type": "code",
   "execution_count": null,
   "id": "17a6dd84-cda2-431d-b9b3-b0746b8239c6",
   "metadata": {},
   "outputs": [],
   "source": []
  }
 ],
 "metadata": {
  "kernelspec": {
   "display_name": "Python [conda env:base] *",
   "language": "python",
   "name": "conda-base-py"
  },
  "language_info": {
   "codemirror_mode": {
    "name": "ipython",
    "version": 3
   },
   "file_extension": ".py",
   "mimetype": "text/x-python",
   "name": "python",
   "nbconvert_exporter": "python",
   "pygments_lexer": "ipython3",
   "version": "3.13.5"
  }
 },
 "nbformat": 4,
 "nbformat_minor": 5
}
