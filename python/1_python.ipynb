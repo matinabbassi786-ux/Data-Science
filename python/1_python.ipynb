{
 "cells": [
  {
   "cell_type": "code",
   "execution_count": 1,
   "id": "2ccfd7f9-c794-45e5-95fe-c10a00aff242",
   "metadata": {},
   "outputs": [],
   "source": [
    "a = 5"
   ]
  },
  {
   "cell_type": "code",
   "execution_count": 2,
   "id": "739515e5-0628-4ba4-8a34-bf474a91af24",
   "metadata": {},
   "outputs": [],
   "source": [
    "b = 32"
   ]
  },
  {
   "cell_type": "code",
   "execution_count": 3,
   "id": "4ac55efe-ab1d-4fdc-82ad-4f134e1efc45",
   "metadata": {},
   "outputs": [
    {
     "data": {
      "text/plain": [
       "37"
      ]
     },
     "execution_count": 3,
     "metadata": {},
     "output_type": "execute_result"
    }
   ],
   "source": [
    "a + b "
   ]
  },
  {
   "cell_type": "code",
   "execution_count": 7,
   "id": "50a7dd0f-bfa9-461e-a05a-bfb8723bc429",
   "metadata": {},
   "outputs": [],
   "source": [
    "name = \"Matin\""
   ]
  },
  {
   "cell_type": "code",
   "execution_count": 9,
   "id": "f1d444b0-4b6a-462c-bcdc-c542527d3b49",
   "metadata": {},
   "outputs": [
    {
     "name": "stdout",
     "output_type": "stream",
     "text": [
      "hello\n"
     ]
    }
   ],
   "source": [
    "print(\"hello\")"
   ]
  },
  {
   "cell_type": "code",
   "execution_count": 12,
   "id": "fe003492-edda-41b9-961b-b0d03502c565",
   "metadata": {},
   "outputs": [
    {
     "name": "stdout",
     "output_type": "stream",
     "text": [
      "<class 'str'>\n"
     ]
    }
   ],
   "source": [
    "print(type(name))"
   ]
  }
 ],
 "metadata": {
  "kernelspec": {
   "display_name": "Python [conda env:base] *",
   "language": "python",
   "name": "conda-base-py"
  },
  "language_info": {
   "codemirror_mode": {
    "name": "ipython",
    "version": 3
   },
   "file_extension": ".py",
   "mimetype": "text/x-python",
   "name": "python",
   "nbconvert_exporter": "python",
   "pygments_lexer": "ipython3",
   "version": "3.13.5"
  }
 },
 "nbformat": 4,
 "nbformat_minor": 5
}
