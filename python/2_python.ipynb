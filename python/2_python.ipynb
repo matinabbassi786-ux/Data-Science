{
 "cells": [
  {
   "cell_type": "code",
   "execution_count": 2,
   "id": "981496d0-97bc-44e4-bbf3-c95c32345352",
   "metadata": {},
   "outputs": [],
   "source": [
    "name = \"matin\""
   ]
  },
  {
   "cell_type": "code",
   "execution_count": 3,
   "id": "f13281c7-029c-494b-825c-9d578b30f0a9",
   "metadata": {},
   "outputs": [
    {
     "data": {
      "text/plain": [
       "'Matin'"
      ]
     },
     "execution_count": 3,
     "metadata": {},
     "output_type": "execute_result"
    }
   ],
   "source": [
    "name.capitalize()"
   ]
  },
  {
   "cell_type": "code",
   "execution_count": 4,
   "id": "6ad508a0-432b-4f5d-814c-56e7af7162e4",
   "metadata": {},
   "outputs": [
    {
     "data": {
      "text/plain": [
       "'MATIN'"
      ]
     },
     "execution_count": 4,
     "metadata": {},
     "output_type": "execute_result"
    }
   ],
   "source": [
    "name.upper()"
   ]
  },
  {
   "cell_type": "code",
   "execution_count": 5,
   "id": "b806e583-b1d2-4b5b-a181-17df19b84186",
   "metadata": {},
   "outputs": [
    {
     "data": {
      "text/plain": [
       "True"
      ]
     },
     "execution_count": 5,
     "metadata": {},
     "output_type": "execute_result"
    }
   ],
   "source": [
    "name.endswith(\"in\")"
   ]
  },
  {
   "cell_type": "code",
   "execution_count": 7,
   "id": "c3471353-2491-484e-aa4a-3d9b5231bef6",
   "metadata": {},
   "outputs": [
    {
     "data": {
      "text/plain": [
       "'matin'"
      ]
     },
     "execution_count": 7,
     "metadata": {},
     "output_type": "execute_result"
    }
   ],
   "source": [
    "name.lower()"
   ]
  },
  {
   "cell_type": "code",
   "execution_count": 9,
   "id": "e35693c6-2c65-4b56-bcbc-65a376865603",
   "metadata": {},
   "outputs": [
    {
     "data": {
      "text/plain": [
       "1"
      ]
     },
     "execution_count": 9,
     "metadata": {},
     "output_type": "execute_result"
    }
   ],
   "source": [
    "name.count(\"m\")"
   ]
  },
  {
   "cell_type": "code",
   "execution_count": 12,
   "id": "c193c126-19c6-412a-91f8-d5e41be4fd9b",
   "metadata": {},
   "outputs": [
    {
     "data": {
      "text/plain": [
       "False"
      ]
     },
     "execution_count": 12,
     "metadata": {},
     "output_type": "execute_result"
    }
   ],
   "source": [
    "name.isupper()"
   ]
  },
  {
   "cell_type": "code",
   "execution_count": 18,
   "id": "68b0573f-7358-4a9b-824b-2e85b0d1f954",
   "metadata": {},
   "outputs": [
    {
     "data": {
      "text/plain": [
       "'ma'"
      ]
     },
     "execution_count": 18,
     "metadata": {},
     "output_type": "execute_result"
    }
   ],
   "source": [
    "name[:2]"
   ]
  },
  {
   "cell_type": "code",
   "execution_count": null,
   "id": "896ed572-d28b-4623-9b2d-28ae24ab91e8",
   "metadata": {},
   "outputs": [],
   "source": []
  }
 ],
 "metadata": {
  "kernelspec": {
   "display_name": "Python [conda env:base] *",
   "language": "python",
   "name": "conda-base-py"
  },
  "language_info": {
   "codemirror_mode": {
    "name": "ipython",
    "version": 3
   },
   "file_extension": ".py",
   "mimetype": "text/x-python",
   "name": "python",
   "nbconvert_exporter": "python",
   "pygments_lexer": "ipython3",
   "version": "3.13.5"
  }
 },
 "nbformat": 4,
 "nbformat_minor": 5
}
