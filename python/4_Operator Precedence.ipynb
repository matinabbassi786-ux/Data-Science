{
 "cells": [
  {
   "cell_type": "code",
   "execution_count": 2,
   "id": "36add1a6-5c3f-45be-b66f-2663b412bc4e",
   "metadata": {},
   "outputs": [
    {
     "name": "stdout",
     "output_type": "stream",
     "text": [
      "16\n",
      "36\n",
      "512\n"
     ]
    }
   ],
   "source": [
    "result = 10 + 2 * 3  # Multiplication happens first: 10 + (2 * 3) = 16\n",
    "print(result)\n",
    "\n",
    "result = (10 + 2) * 3  # Parentheses first: (10 + 2) * 3 = 36\n",
    "print(result)\n",
    "\n",
    "result = 2 ** 3 ** 2  # Right-to-left exponentiation: 2 ** (3 ** 2) = 2 ** 9 = 512\n",
    "print(result)"
   ]
  }
 ],
 "metadata": {
  "kernelspec": {
   "display_name": "Python [conda env:base] *",
   "language": "python",
   "name": "conda-base-py"
  },
  "language_info": {
   "codemirror_mode": {
    "name": "ipython",
    "version": 3
   },
   "file_extension": ".py",
   "mimetype": "text/x-python",
   "name": "python",
   "nbconvert_exporter": "python",
   "pygments_lexer": "ipython3",
   "version": "3.13.5"
  }
 },
 "nbformat": 4,
 "nbformat_minor": 5
}
