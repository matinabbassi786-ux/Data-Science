{
 "cells": [
  {
   "cell_type": "code",
   "execution_count": 2,
   "id": "36f34c70-0894-4590-8367-411cc354952f",
   "metadata": {},
   "outputs": [],
   "source": [
    "def http_status(code):\n",
    "    match code:\n",
    "        case 200:\n",
    "            return \"OK\"\n",
    "        case 400:\n",
    "            return \"Bad Request\"\n",
    "        case 404:\n",
    "            return \"Not Found\"\n",
    "        case 500:\n",
    "            return \"Internal Server Error\"\n",
    "        case _:\n",
    "            return \"Unknown Status\""
   ]
  },
  {
   "cell_type": "code",
   "execution_count": 3,
   "id": "c9d4b033-5bf2-4c73-84eb-98dfcc25f6c0",
   "metadata": {},
   "outputs": [
    {
     "name": "stdout",
     "output_type": "stream",
     "text": [
      "OK\n"
     ]
    }
   ],
   "source": [
    "print(http_status(200))"
   ]
  },
  {
   "cell_type": "code",
   "execution_count": 7,
   "id": "11691465-517a-4b1e-a2b9-213257f1a7fb",
   "metadata": {},
   "outputs": [
    {
     "name": "stdout",
     "output_type": "stream",
     "text": [
      "Bad Request\n",
      "Unknown Status\n",
      "Internal Server Error\n"
     ]
    }
   ],
   "source": [
    "print(http_status(400))\n",
    "print(http_status(0))\n",
    "print(http_status(500))"
   ]
  }
 ],
 "metadata": {
  "kernelspec": {
   "display_name": "Python [conda env:base] *",
   "language": "python",
   "name": "conda-base-py"
  },
  "language_info": {
   "codemirror_mode": {
    "name": "ipython",
    "version": 3
   },
   "file_extension": ".py",
   "mimetype": "text/x-python",
   "name": "python",
   "nbconvert_exporter": "python",
   "pygments_lexer": "ipython3",
   "version": "3.13.5"
  }
 },
 "nbformat": 4,
 "nbformat_minor": 5
}
